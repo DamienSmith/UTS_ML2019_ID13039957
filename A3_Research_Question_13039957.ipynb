{
  "nbformat": 4,
  "nbformat_minor": 0,
  "metadata": {
    "colab": {
      "name": "A3_Research_Question_13039957.ipynb",
      "provenance": [],
      "collapsed_sections": [
        "K_hEkBfiVuj2"
      ],
      "include_colab_link": true
    },
    "kernelspec": {
      "name": "python3",
      "display_name": "Python 3"
    }
  },
  "cells": [
    {
      "cell_type": "markdown",
      "metadata": {
        "id": "view-in-github",
        "colab_type": "text"
      },
      "source": [
        "<a href=\"https://colab.research.google.com/github/DamienSmith/UTS_ML2019_ID13039957/blob/master/A3_Research_Question_13039957.ipynb\" target=\"_parent\"><img src=\"https://colab.research.google.com/assets/colab-badge.svg\" alt=\"Open In Colab\"/></a>"
      ]
    },
    {
      "cell_type": "markdown",
      "metadata": {
        "id": "LtgBWXNlUg1k",
        "colab_type": "text"
      },
      "source": [
        "# A3: Take Home Exam | 31005 | Advanced Data Analytics"
      ]
    },
    {
      "cell_type": "markdown",
      "metadata": {
        "id": "bq0ITFT5UjyI",
        "colab_type": "text"
      },
      "source": [
        "Student ID: 13039957\n",
        "\n",
        "The link to this report is https://github.com/DamienSmith/UTS_ML2019_ID13039957/blob/master/A3_Research_Question_13039957.ipynb"
      ]
    },
    {
      "cell_type": "markdown",
      "metadata": {
        "id": "RMcmz8I-Ukhd",
        "colab_type": "text"
      },
      "source": [
        "## Introduction\n",
        "\n",
        "The objective of this paper is to propose a solution to the following open research question:\n",
        "\n",
        "\"*Following your graduation, you are hired by a polling organisation as a data analyst. As social media has exploded and transformed the way people interact with each other, it would be a great idea to use messages collected from social media to predict how the user can be converted to change his/her support. List three challenges to solving this problem. With reference to existing approaches, describe the design of your system. Discuss the ethical and social consequences of this study.*\"\n",
        "\n",
        "This report will include background research, details of the proposed solution and ethical/social considerations.\n"
      ]
    },
    {
      "cell_type": "markdown",
      "metadata": {
        "id": "uxzqUWiOUk4F",
        "colab_type": "text"
      },
      "source": [
        "## Background research\n",
        "\n",
        "Influencing social media is now a well researched area and many approaches are applied in real-world situations (Neethu & Rajasree 2013). Many businesses implement social media campaigns as part of their marketing strategy to leverage positive sentiment for their benefit (Melville, Sindhwani & Lawrence 2009). Cambridge Analytica is an analytics company that claims to have used social networking websites to tailor messages to individual's psychological traits and gain support in a political campaign (Ward 2018). Methods drawn from behavioural theory, persuasion psychology, and marketing science with regard to health behaviour, human reactions to messages and message delivery are applied to social networking messages to influence health behaviour (Evans 2006). It has been found that messages are more effective when they are custom-made to reflect an individual's interests and concerns (Hirsh, Kang & Bodenhausen 2012).\n",
        "\n",
        "### Existing approaches\n",
        "\n",
        "Many solutions have been proposed related to how to best analyse and influence users of  social media (Stieglitz et al 2014). A common approach to social media analytics is to use sentiment analysis to design messages that would most likely convert a person’s support  (Fan & Gordon 2014).  Two common strategies for sentiment analysis is the knowledge base approach or machine learning approach (Neethu & Rajasree 2013).\n",
        "\n",
        "The knowledge base approach identifies sentiment through a dataset of predefined classifications that determines how sentiment is grouped (Cambria 2013). In general, this requires that a dictionary of words and their classification be manually constructed or found from an outside source (Alessia et al 2015). The advantage to this is that you have control of the classifications and definitions of each word. The disadvantage to this is that it is a manual process limited by a finite number of words with a fixed sentiment classification assigned to each word.\n",
        "\n",
        "The machine learning approach makes use of a training set to build a sentiment classifier (Kotsiantis, Zaharakis & Pintelas 2007). It uses supervised machine learning tools such as Bayesian networks, Naive Bayes classification, maximum entropy, neural networks and support vector machine to classify words (Alessia et al 2015). The advantage to this is the ability to adapt and create trained models for specific purposes and contexts. The disadvantage is that it has limited practicality as it still requires sourcing or generating a labeled training dataset."
      ]
    },
    {
      "cell_type": "markdown",
      "metadata": {
        "id": "cnnnQuYWVWJF",
        "colab_type": "text"
      },
      "source": [
        "## Challenges\n",
        "\n",
        "Several challenges present themselves when solving this problem. \n",
        "\n",
        "### Defining your goal\n",
        "\n",
        "Defining your goal means answering the question ‘what is your success criteria?’ (Westerveld 2003). It is entirely possible that multiple domains need to be treated separately to account for their differences (Neethu & Rajasree 2013). This includes different social media platforms, geographical locals, special interest groups and more. Some examples of success criteria could be in terms of response sentiment (e.g. likes, positive messages, actions, shares, etc) or in terms of a quantifiable result (e.g. election result, sales made, site traffic, etc). TKnowing you have successfully influences someone’s support is a challenge because you have to have something relevant and observable that can confirm whether or not influence has been successful or not (Neethu & Rajasree 2013).\n",
        "\n",
        "### Data gathering\n",
        "\n",
        "An increasing number of social media platforms has created a challenge in data collection where a large amount of social media messages are generated from many sources and in different formats (Katal, Wazid & Goudar 2013). There are limitations such as only having access to public messages where potential bias could be introduced (Lin, Bagrow & Lazer 2011). Additionally, with each additional social media service, an application program interface (API) key will need to be purchased at a cost to the project. \n",
        "\n",
        "### Natural language processing\n",
        "\n",
        "When analysing the text of each message it is possible to detect the presence of opinion-bearing words and associate them to a feature that can produce a prediction  (Cambria et al 2013). This becomes increasing difficult due to issues with natural language processes, for example text containing slang words and spellings mistakes (Neethu & Rajasree 2013). In addition, being able to infer the cognitive and affective information associated with natural language, does not account for the context of responses to certain questions and conversations (Cambria et al 2013). Social media text analysis is arguably ineffective because a single sentence (sometimes limited to a set number of characters) can be misinterpreted in so many ways due to human nature (Cambria et al 2013).\n",
        "\n",
        "### Sentiment analysis classification \n",
        "\n",
        "Supervised approaches rely on manually labeled samples, however, sentiment isn't limited to a single classification (Neethu & Rajasree 2013). In addition, not all portions of text contain an indication of sentiment. The challenge here is to identify what particular words for a particular domain are most effective at influencing people support. Similar to the natural language processing challenge things like sarcasm and irony will not be detected while classifying. A number of sentiment analysis dictionaries are available pre-built, however, can be considered too general to apply to all cases (Alessia et al 2015). Finding the best approach becomes difficult and generalization can negatively affect a models output from one domain to the other (Joshi & Penstein-Rosé 2009)."
      ]
    },
    {
      "cell_type": "markdown",
      "metadata": {
        "id": "9abTFFYDVl_a",
        "colab_type": "text"
      },
      "source": [
        "## Proposed solution\n",
        "\n",
        "The proposed solution to this problem is a hybrid of the knowledge base and machine learning approach that will input a message and output a predict sentiment score. Using social media API’s, a sentence level sentiment analysis is performed. This is done by manually building a knowledge base, preprocessing each message, extracting features and assigning a class (such as positive or negative) to each word. In addition to assigning a class, a weight is assigned to emphasis features to add more or less value a sentiment score.  From the total weighted number of messages in each class, the overall sentiment for a domain can be determined. It is important to note that the more granular the sentiment classes the more information about sentiment can be found (i.e. including a ‘neutral’ or ‘irrelevant’ class may help better determine sentiment). A sentiment classification is performed with several machine learning methods scoring words and emphasis words. Finally, a message can be inputted and checked against the predicted sentiment based on the features contained in the message. These messages can then be refined to gain the highest possible predicted sentiment score.\n"
      ]
    },
    {
      "cell_type": "markdown",
      "metadata": {
        "id": "K_hEkBfiVuj2",
        "colab_type": "text"
      },
      "source": [
        "## 1. Build a knowledge base\n",
        "\n",
        "Social media messages are collected using API’s and manually classified by a subject matter expert. This dataset is then split into training set and test set. Note that this is at the sentence level.\n"
      ]
    },
    {
      "cell_type": "code",
      "metadata": {
        "id": "ErWegDIXVy4D",
        "colab_type": "code",
        "colab": {}
      },
      "source": [
        "######## NOTE #######\n",
        "###\n",
        "### The following code is not a final design, rather proof of concept describing\n",
        "### how the practical implementation of the approach would work\n",
        "###\n",
        "### The following code is adapted from official ‘twitter’ python library website\n",
        "### https://pypi.org/project/twitter/\n",
        "### It applies only to the social media platform Twitter\n",
        "### for each social media platform, each api requirements will need to be implemented.\n",
        "###\n",
        "\n",
        "# Initialize api\n",
        "import twitter\n",
        "\n",
        "twitter_api = twitter.Api(consumer_key='INSERT_KEY',\n",
        "                          consumer_secret='INSERT_SECRET',\n",
        "                          access_token_key='INSERT_TOKEN_KEY',\n",
        "                          access_token_secret='INSERT_TOKEN_SECRET')\n",
        "\n",
        "#Get Tweets\n",
        "\n",
        "  # query is a keyword that will collect tweets containing that keyword\n",
        "\t# count is the total number of tweets to collect\n",
        "try:\n",
        "    fetched_tweets = twitter_api.search(q = query, count = count)\n",
        "    # parsing tweets one by one\n",
        "    for tweet in fetched_tweets:\n",
        "      # save the text of the tweet\n",
        "      sentence = tweet.text\n",
        "      # store tweet in knowledgebase with a default sentiment\n",
        "      KnowledgeBaseDictionary[preprocess(sentence)] = ‘default’\n",
        "\n",
        "### PREPROCESSING STEP HERE to extract artifacts ###\n",
        "### See step 2 ###\n",
        "  \n",
        "# now the manual task of adding sentiment to each item in the dictionary.\n",
        "# eg\n",
        "KnowledgeBaseDictionary[sentence] = ‘positive’\n"
      ],
      "execution_count": 0,
      "outputs": []
    },
    {
      "cell_type": "markdown",
      "metadata": {
        "id": "M94AxvFnXQyi",
        "colab_type": "text"
      },
      "source": [
        "## 2. Preprocessing\n",
        "\n",
        "Each message needs to extract words, remove artifacts, manage spelling mistakes and slang words. It is important to understand the domain in order to understand the use of slang, therefore a dictionary is maintained that replaces slang with their associated meaning.\n"
      ]
    },
    {
      "cell_type": "code",
      "metadata": {
        "id": "fwzKm-qVXchM",
        "colab_type": "code",
        "colab": {}
      },
      "source": [
        "######## NOTE #######\n",
        "###\n",
        "### The following code is not a final design, rather proof of concept describing\n",
        "### how the practical implementation of the approach would work\n",
        "###\n",
        "### The following code is taken from the official ‘tweet-preprocessor’ library website\n",
        "###  https://pypi.org/project/tweet-preprocessor/\n",
        "### It only applies to the social media platform Twitter\n",
        "### for each social media platform, preprocessing will need to be implemented in a similar way.\n",
        "### \n",
        "pip install tweet-preprocessor\n",
        "import preprocessor as p\n",
        "\n",
        "# text only\n",
        "p.clean('Preprocessor is #awesome 👍 https://github.com/s/preprocessor')\n",
        "# output will be 'Preprocessor is'\n",
        "\n",
        "# tokenize approach\n",
        "p.tokenize('Preprocessor is #awesome 👍 https://github.com/s/preprocessor')\n",
        "# output will be 'Preprocessor is $HASHTAG$ $EMOJI$ $URL$'    \n",
        " "
      ],
      "execution_count": 0,
      "outputs": []
    },
    {
      "cell_type": "code",
      "metadata": {
        "id": "eTyyWBzPYlid",
        "colab_type": "code",
        "colab": {}
      },
      "source": [
        "### Other text preprocessing methods\n",
        "\n",
        "# convert text to lower-case\n",
        "tweet = tweet.lower() \n",
        "\n",
        "# remove URLs\n",
        "tweet = re.sub('((www\\.[^\\s]+)|(https?://[^\\s]+))', 'URL', tweet) \n",
        " \n",
        "# remove usernames\n",
        "tweet = re.sub('@[^\\s]+', 'AT_USER', tweet)\n",
        "\n",
        "# remove the # in #hashtag\n",
        "tweet = re.sub(r'#([^\\s]+)', r'\\1', tweet) \n",
        " \n",
        "# remove repeated characters (i.e laaaaaa into la)\n",
        "tweet = word_tokenize(tweet)"
      ],
      "execution_count": 0,
      "outputs": []
    },
    {
      "cell_type": "code",
      "metadata": {
        "id": "vnul49zdY67Q",
        "colab_type": "code",
        "colab": {}
      },
      "source": [
        "# Yet another method\n",
        "# source: Al-Masri’s (2018) twitter sentiment analysis program\n",
        "# this will strip back to text only\n",
        "def preprocess(self, tweet):\n",
        "        return ' '.join(re.sub(\"(@[A-Za-z0-9]+)|([^0-9A-Za-z \\t])\n",
        "                                    |(\\w+:\\/\\/\\S+)\", \" \", tweet).split())"
      ],
      "execution_count": 0,
      "outputs": []
    },
    {
      "cell_type": "markdown",
      "metadata": {
        "id": "jr8hOFK1ZM6d",
        "colab_type": "text"
      },
      "source": [
        "## 3. Extract features\n",
        "\n",
        "Due to the nature of social media messages, it is required to design an extraction step specific to each social media service. Emoticons,  shares and tags can all be associated with a sentiment score and therefore is important to take into consideration. Each social media service can have their own specific features these need to be extracted so that only the text remains.\n",
        "\n",
        "After filtering out the special features and any other artifacts, each message can be considered as text. Applying a unigram approach, each message is represented as a collection of words that can now be counted and associated with sentiment classification. As each word may hold a different level of emphasis, for each word associated with a classification a weighted score is applied based on the presence of an adjective, adverb or verb. This can be done by associating a weighted score to certain words used to emphasis, otherwise, a true/false flag can be generated that can be used to add bonus score to the use of this word. \n",
        "\n",
        "After this extraction process, we are left with a series of features that can be used in sentiment classification. These features include, the number of positive/negative words, a flag or weighted score value for emphasis and number of positive/negative social media specific items.\n"
      ]
    },
    {
      "cell_type": "code",
      "metadata": {
        "id": "g48l7N_eZdFn",
        "colab_type": "code",
        "colab": {}
      },
      "source": [
        "######## NOTE #######\n",
        "###\n",
        "### The following code is not a final design, rather proof of concept describing\n",
        "### how the practical implementation of the approach would work\n",
        "###\n",
        "### The following code is adapted from Al-Masri’s (2018) twitter sentiment analysis program\n",
        "### It only applies to the social media platform Twitter\n",
        "### for each social media platform, their  api requirements will need to be implemented.\n",
        "### \n",
        " \n",
        "  \n",
        "# this will pull each feature out of the Knowledgebasedictionary generated in step 1 & 2\n",
        "\n",
        "def extract_features(KnowledgeBaseDictionary):\n",
        " \n",
        "   all_words = []\n",
        "\n",
        "   for (words, sentiment) in KnowledgeBaseDictionary.items():\n",
        " \n",
        "       all_words.extend(words)\n",
        " \n",
        "   wordlist = nltk.FreqDist(all_words)\n",
        " \n",
        "   features = wordlist.keys()\n",
        " \n",
        "   return features\n"
      ],
      "execution_count": 0,
      "outputs": []
    },
    {
      "cell_type": "markdown",
      "metadata": {
        "id": "IV14EGb2a0SX",
        "colab_type": "text"
      },
      "source": [
        "## 4. Sentiment Classification\n",
        "\n",
        "With our set of features we can classify using machine learning methods (discussed in additional considerations). The performance of these are compared and the best method needs to be considered.\n",
        "\n",
        "We are now able to evaluate sentiment of an inputted message based on its features. The following is an example of a Naive bayes classification of twitter messages (Al-Masri 2019).\n"
      ]
    },
    {
      "cell_type": "code",
      "metadata": {
        "id": "d9KQuxQpa4NB",
        "colab_type": "code",
        "colab": {}
      },
      "source": [
        "######## NOTE #######\n",
        "###\n",
        "### The following code is not a final design, rather proof of concept describing\n",
        "### how the practical implementation of the approach would work\n",
        "###\n",
        "### The following code is adapted from Al-Masri’s (2018) twitter sentiment analysis program\n",
        "### https://towardsdatascience.com/creating-the-twitter-sentiment-analysis-program-in-python-with-naive-bayes-classification-672e5589a7ed \n",
        "### It only applies to the social media platform Twitter\n",
        "### for each social media platform, their  api requirements will need to be implemented.\n",
        "### \n",
        " \n",
        "import nltk\n",
        " \n",
        "word_features = extract_features(KnowledgeBaseDictionary)\n",
        " \n",
        "trainingFeatures = nltk.classify.apply_features(extract_features, preprocessedTrainingData)\n",
        " \n",
        "NBayesClassifier = nltk.NaiveBayesClassifier.train(trainingFeatures)\n",
        "\n",
        "NBResultLabels = [NBayesClassifier.classify(extract_features(tweet[0])) for tweet in preprocessedTestDataSet]\n",
        "\n",
        "# get the majority vote\n",
        "if NBResultLabels.count('positive') > NBResultLabels.count('negative'):\n",
        "    print(\"Overall Positive Sentiment\")\n",
        "    print(\"Positive Sentiment Percentage = \" + str(100*NBResultLabels.count('positive')/len(NBResultLabels)) + \"%\")\n",
        "else: \n",
        "    print(\"Overall Negative Sentiment\")\n",
        "    print(\"Negative Sentiment Percentage = \" + str(100*NBResultLabels.count('negative')/len(NBResultLabels)) + \"%\")\n"
      ],
      "execution_count": 0,
      "outputs": []
    },
    {
      "cell_type": "markdown",
      "metadata": {
        "id": "Ae2pjn19cU06",
        "colab_type": "text"
      },
      "source": [
        "## 5. Message Test\n",
        "\n",
        "A message in a string format is inputted into the model and a predicted sentiment classification is produced based on the features of the message. \n"
      ]
    },
    {
      "cell_type": "code",
      "metadata": {
        "id": "d8cKr-vxcWWA",
        "colab_type": "code",
        "colab": {}
      },
      "source": [
        "######## NOTE #######\n",
        "###\n",
        "### The following code is not a final design, rather proof of concept describing\n",
        "### how the practical implementation of the approach would work\n",
        "###\n",
        "\n",
        "def Test_Message(self, message):\n",
        "  # create object of passed tweet text\n",
        "  Words = message(self.preprocess(tweet))\n",
        "  # set sentiment\n",
        "  For each word in words:        \n",
        "  Sent = KnowledgeBaseDictionary.get(word)\n",
        "    if sent == 'positive':\n",
        "      Positive = positive + 1       \n",
        "    elif sent == 'negative':\n",
        "      Negative = negative + 1 \n",
        "      \n",
        "  If Positive > Negative:\n",
        "    print('the passed in message is predicted to have a positive sentiment')\n",
        "  Elif Negative > Positive:\n",
        "    print('the passed in message is predicted to have a negative sentiment')\n",
        "  else:\n",
        "    print('cannot determine sentiment')"
      ],
      "execution_count": 0,
      "outputs": []
    },
    {
      "cell_type": "markdown",
      "metadata": {
        "id": "Vp4k0VFjcw_J",
        "colab_type": "text"
      },
      "source": [
        "This solution is logical and practically feasible because a message can be tested against the desired domain. Each domain requires it own set of classifications due to the unique nature of each group. Therefore, manual creating a knowledge base with subject matter experts potentially provides the best option for building a social media message dataset. More simplistic approaches exist, however, it’s a matter of what your objective is and the level of granularity you desire."
      ]
    },
    {
      "cell_type": "markdown",
      "metadata": {
        "id": "4tLp3_cjc1F-",
        "colab_type": "text"
      },
      "source": [
        "## Additional considerations\n",
        "\n",
        "### Which classification technique?\n",
        "\n",
        "Many different classifiers can be used  for text classification. These techniques can be applied in the same way  for social media message sentiment classification.\n",
        "\n",
        "#### Naive Bayes Classifier\n",
        "The Naive Bayes classifier uses all the features and analyzes them as independent of each other (i.e. Naive Bayes does not consider the relationships between features).The conditional probability for Naive Bayes can be defined as:\n",
        "\n",
        "$P(X|yj)=Πmi=1P(x_{i}|y_{j})$\n",
        "\n",
        "\n",
        "Where $X$ are features defined as:\n",
        "\n",
        "$X={x1,x2,…⋅⋅xm}$ and $y_{j}$ is the class label. \n",
        "\n",
        "#### SVM Classifier\n",
        "The SVM Classifier uses large margin for classification by separating messages on a hyperplane. SVM uses a discriminative function defined as:\n",
        "\n",
        "$g(X)=wTϕ(X)+b$\n",
        "\n",
        "$X$ is the feature vector, $w$’ is the weights vector and $b$ is the bias vector.  $ϕ()$  is the non linear mapping from input space to a high dimensional feature space. $w$ and $b$ are learned automatically on the training set. A linear kernel is used for classification. It maintains a wide gap between two classes.\n",
        "\n",
        " \n",
        "#### Maximum Entropy Classifier\n",
        "\n",
        "The Maximum Entropy classifier estimates the conditional distribution of the class label and  maximizes the entropy. The conditional distribution is defined as:\n",
        "\n",
        "$Pλ(y|X)=1/Z(X)exp{∑iλifi(X,y)}$\n",
        "\n",
        "$X$ is the feature vector and $y$‘ is the class label. $Z(X)$ is the normalization factor and $Λ(_i)$  is the weight coefficient.  $(Fi(X,y))$  is the feature function which is defined as:\n",
        "\n",
        "\n",
        "$( f_{i}(X,y)=\\cases{1,&${\\rm X=x_{i}}\\ {\\rm and}\\ {y=y_{i}}$\\cr 0,&${\\rm otherwise}$}$\n",
        "\n",
        "#### Ensemble classifiers\n",
        "\n",
        "Ensemble classifiers can be of different types. They try to make use of the features of all the base classifiers to do the best classification. The base classifiers used here are Naive Bayes, Maximum entropy and SVM. Here an ensemble classifier is generated by voting rule. The classifier will classify based on the output of majority of classifiers.\n",
        "Other potential solutions\n",
        "\n",
        "### Other solutions\n",
        "\n",
        "Other potential solutions could be to treat the task as a simple classification of whether or not a tweet will be shared based on features provided in the social media API (Hong, Dan & Davison 2011). This approach is limited as it would consider features outside the construction of a message such as time sent, number of followers, images, etc. While these may be relevant to influencing people it is outside of scope for the goal of construction the best message. The proposed approach accounts for this by only considering the features within the message as features of what makes the most influential message.\n",
        "\n",
        "Another solution would be to implement behavioral microtargeting (Cadwalladr & Graham-Harrison 2018). This approach was used by Cambridge Analytica by gathering a massive social media dataset, building profiles (classifications), assigning individuals to each profile and designing personalised messages to those profiles (Ward 2018). Behavioural microtargeting aims to determine what message would be most effective to influence an individual based on a pre-determined psychological profiles that contain personal attributes and preferences (Cadwalladr & Graham-Harrison 2018). The limitation of this approach is that it has some ethical issues that could be considered inappropriate. The proposed approach accounts for this by grouping individuals by predefined domains such as social media platform or a preexisting group created on these platforms.  \n",
        "\n",
        "Neethu & Rajasree (2013) proposed a feature vector method for classifying twitter messages as positive or negative while extracting an opinion about a topic. This approach extracts text from twitter posts and uses special keywords, negation, emoticons, number of positive keywords, number of negative keywords, number of positive hashtags and number of negative hashtags as features to determine the sentiment of each tweet (Neethu & Rajasree 2013). This approach is similar to the proposed approach, however, limited by detecting only the overall sentiment of twitter messages rather than predicting the sentiment of an input message. \n"
      ]
    },
    {
      "cell_type": "markdown",
      "metadata": {
        "id": "pGaPGpbngRi9",
        "colab_type": "text"
      },
      "source": [
        "## Ethical & social considerations\n",
        "\n",
        "Ethics refer to the principles of right and wrong that individuals use to make choices that\n",
        "guide their behaviors (Wiley 2017). The proposed solution adopts the utilitarianism approach, which aims to do what causes the most good for the most people (Anderson & Anderson 2011). There is the question of whether or not this approach has a place in politics. Should a politicians message be focused how to best influence people or rather what they believe is right for the greater community? \n",
        "\n",
        "Sentiment analysis can potentially be misused if a user considers the output as an absolute truth. If the predicted classification is treated as evidence for future decisions it has the potential to be misguided due to the probabilistic nature of how a prediction is made (Willis 2014). This problem grows when the subject matter experts inject bias while building the knowledge base. Ultimately, this approach provides a tool that can highlight a set of words and that can be associated to a subject matter experts view of a sentiment classification (e.g. positive or negative).\n",
        "\n",
        "It is also possible that socially unacceptable generalisations and bias is introduced. This includes making decisions in a domain based on race, sex or religion. This can cause certain features to be prejudicial when classifying. This creates the ethical problem of whether or not to consider potentially discriminatory features when classifying sentiment. \n",
        "\n",
        "Ultimately, sentiment analysis is quite simplistic. When considering the highly complex nature of human communication, it seems inappropriate to break it down into a set of words associated with a classification. Considerations of context are left to a subject matter expert who cannot always get it right and machine learning does not account notions of sarcasm or irony. \n"
      ]
    },
    {
      "cell_type": "markdown",
      "metadata": {
        "id": "2y58xLiugXoz",
        "colab_type": "text"
      },
      "source": [
        "## Conclusion\n",
        "\n",
        "A solution to a research question has been proposed. This report has provided background research, challenges and technical details surrounding this solution. The approach manages the described problems while considering existing methods. Ultimately, the advantage of this approach is the level of customization due to the manual knowledge base dictionary. While limitations still exist, the user can control how many domains to consider and test message against the trained model.\n"
      ]
    },
    {
      "cell_type": "markdown",
      "metadata": {
        "id": "TxNpitq7gaFU",
        "colab_type": "text"
      },
      "source": [
        "## References\n",
        "\n",
        "Alessia, D., Ferri, F., Grifoni, P. and Guzzo, T., 2015. Approaches, tools and applications for sentiment analysis implementation. International Journal of Computer Applications, 125(3).\n",
        "\n",
        "Anderson, M. and Anderson, S.L. eds., 2011. Machine ethics. Cambridge University Press.\n",
        "\n",
        "Cadwalladr, C. and Graham-Harrison, E., 2018. Revealed: 50 million Facebook profiles harvested for Cambridge Analytica in major data breach. Sat, 17, pp.22-03.\n",
        "\n",
        "Cambria, E., Schuller, B., Liu, B., Wang, H. and Havasi, C., 2013. Knowledge-based approaches to concept-level sentiment analysis. IEEE intelligent systems, 28(2), pp.12-14.\n",
        "\n",
        "Evans, W.D., 2006. How social marketing works in health care. Bmj, 332(7551), pp.1207-1210.\n",
        "\n",
        "Fan, W. and Gordon, M.D., 2014. The power of social media analytics. Commun. Acm, 57(6), pp.74-81.\n",
        "\n",
        "Goyal, A., Bonchi, F. and Lakshmanan, L.V., 2010, February. Learning influence probabilities in social networks. In Proceedings of the third ACM international conference on Web search and data mining (pp. 241-250). ACM.\n",
        "\n",
        "Hirsh, J.B., Kang, S.K. and Bodenhausen, G.V., 2012. Personalized persuasion: Tailoring persuasive appeals to recipients’ personality traits. Psychological science, 23(6), pp.578-581.\n",
        "\n",
        "Hong, L., Dan, O. and Davison, B.D., 2011, March. Predicting popular messages in twitter. In Proceedings of the 20th international conference companion on World wide web (pp. 57-58). ACM.\n",
        "\n",
        "Joshi, M. and Penstein-Rosé, C., 2009, August. Generalizing dependency features for opinion mining. In Proceedings of the ACL-IJCNLP 2009 conference short papers (pp. 313-316).\n",
        "\n",
        "Katal, A., Wazid, M. and Goudar, R.H., 2013, August. Big data: issues, challenges, tools and good practices. In 2013 Sixth international conference on contemporary computing (IC3) (pp. 404-409). IEEE.\n",
        "\n",
        "Kotsiantis, S.B., Zaharakis, I. and Pintelas, P., 2007. Supervised machine learning: A review of classification techniques. Emerging artificial intelligence applications in computer engineering, 160, pp.3-24.\n",
        "\n",
        "Lin, Y.R., Bagrow, J.P. and Lazer, D., 2011, July. More voices than ever? quantifying media bias in networks. In Fifth International AAAI Conference on Weblogs and Social Media.\n",
        "\n",
        "Al-Masri, A, 2019, ‘Creating The Twitter Sentiment Analysis Program in Python with Naive Bayes Classification’. Towards Data Science. \n",
        "\n",
        "Melville, P., Sindhwani, V. and Lawrence, R., 2009. Social media analytics: Channeling the power of the blogosphere for marketing insight. Proc. of the WIN, 1(1), pp.1-5.\n",
        "\n",
        "Neethu, M.S. and Rajasree, R., 2013, July. Sentiment analysis in twitter using machine learning techniques. In 2013 Fourth International Conference on Computing, Communications and Networking Technologies (ICCCNT) (pp. 1-5). IEEE.\n",
        "\n",
        "Stieglitz, S., Dang-Xuan, L., Bruns, A. and Neuberger, C., 2014. Social media analytics. Business & Information Systems Engineering, 6(2), pp.89-96.\n",
        "\n",
        "Ward, K., 2018. Social networks, the 2016 US presidential election, and Kantian ethics: applying the categorical imperative to Cambridge Analytica’s behavioral microtargeting. Journal of media ethics, 33(3), pp.133-148.\n",
        "\n",
        "Westerveld, E., 2003. The Project Excellence Model®: linking success criteria and critical success factors. International Journal of project management, 21(6), pp.411-418.\n",
        "\n",
        "Wiley J. & Sons, Inc. 2017, ‘Management Information Systems’, Chapter 6, p2.\n",
        "\n",
        "Willis, J.E., 2014. Learning analytics and ethics: A framework beyond utilitarianism. Educause Review."
      ]
    }
  ]
}