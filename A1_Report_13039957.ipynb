{
  "nbformat": 4,
  "nbformat_minor": 0,
  "metadata": {
    "kernelspec": {
      "display_name": "Python 3",
      "language": "python",
      "name": "python3"
    },
    "language_info": {
      "codemirror_mode": {
        "name": "ipython",
        "version": 3
      },
      "file_extension": ".py",
      "mimetype": "text/x-python",
      "name": "python",
      "nbconvert_exporter": "python",
      "pygments_lexer": "ipython3",
      "version": "3.5.4"
    },
    "toc": {
      "base_numbering": 1,
      "nav_menu": {},
      "number_sections": true,
      "sideBar": true,
      "skip_h1_title": false,
      "title_cell": "Table of Contents",
      "title_sidebar": "Contents",
      "toc_cell": false,
      "toc_position": {},
      "toc_section_display": true,
      "toc_window_display": false
    },
    "colab": {
      "name": "A1_Report_13039957.ipynb",
      "version": "0.3.2",
      "provenance": [],
      "collapsed_sections": [
        "dMOf_JLHLjfo"
      ],
      "include_colab_link": true
    }
  },
  "cells": [
    {
      "cell_type": "markdown",
      "metadata": {
        "id": "view-in-github",
        "colab_type": "text"
      },
      "source": [
        "<a href=\"https://colab.research.google.com/github/DamienSmith/UTS_ML2019_ID13039957/blob/master/A1_Report_13039957.ipynb\" target=\"_parent\"><img src=\"https://colab.research.google.com/assets/colab-badge.svg\" alt=\"Open In Colab\"/></a>"
      ]
    },
    {
      "cell_type": "markdown",
      "metadata": {
        "id": "dMOf_JLHLjfo",
        "colab_type": "text"
      },
      "source": [
        "# Draft and Experiment Area"
      ]
    },
    {
      "cell_type": "markdown",
      "metadata": {
        "id": "bI5ud_QPLjfr",
        "colab_type": "text"
      },
      "source": [
        "#### 1. First impression\n",
        "    * What is my chosen paper to read?\n",
        "      * [FRI01] Greedy Function Approximation: A Gradient Boosting Machine\" by Jerome H. Friedman 1999 \n",
        "    * What type of the main contribution the paper has made?\n",
        "        - A theory or proposition (revealing something, from unknown to known)\n",
        "        - A method or algorithm (inventing a technique, from undoable to doable)\n",
        "           * A Method or Algorithm.    \n",
        "\n",
        "    * _Before_ reading the main body of the paper, write down your first impression  obtained from its abstract and short introduction.\n",
        "    * Why does the paper attract you, such as, How it surprised you? \n",
        "      * This paper attracts me because of its wide range of applications. I know that boosting is a valuable technique in Data Analytics and I would like to learn more about these techniques. I have heard about XG boost and believe it stems from this research.\n",
        "    \n",
        "    * Why do you think it addresses an important topic that will be helpful in your future study of machine learning?\n",
        "      * This technique applies to a wide range of fitting techniques and claims to produce competitve, highly robust, interpretable procedures for both regession and classification. It is also claimed to work well for data that is not very clean.\n",
        "   \n",
        "#### 2. Read the paper abstract and introduction, list here all the notions that you don't know the precise meaning. If you think you have completed your list,  compare the list with people around you who have chosen the same or a similar paper.\n",
        "\n",
        "* Stagewise additive expansions\n",
        "* Steepest-decent minimization\n",
        "* Huber-M loss functions for regression\n",
        "* Some math symbols\n",
        "\n",
        "\n",
        "#### 3. (During the next 7 days) Re-consider the central problem of the paper.\n",
        "\n",
        "The central problem revolves around how to maintain a general model from multiple hypothesis'. In other words, from the training data, you want to create a model that will apply to real data (or data outside the training set). By running mutliple hypothesis' on the same data many times you are overfitting the data to this data set. This is the central problem of the paper and generalization techniques are proposed to resolve it.\n",
        "\n",
        "\n",
        "#### [FRI01] GREEDY BOOSTING\n",
        "\n",
        "• It is possible to use the sum of simple functions to approximate\n",
        "complicated functional behaviour given training data. The\n",
        "incremental steps are made easier (than a holistic function\n",
        "adjust) by the proposed technique.\n",
        "\n",
        "• Please explore by searching using keywords such as “XGBoost”\n",
        "\n",
        "• You may want to explore winning entries to some Kaggle\n",
        "competitions.\n",
        "\n",
        "\n",
        "\n",
        "Remember to checkout:\n",
        "Pandas_Profiling library! :) "
      ]
    },
    {
      "cell_type": "code",
      "metadata": {
        "id": "x0tsrhA7h7uE",
        "colab_type": "code",
        "outputId": "eb1ffe10-a7a0-46e1-8df3-5f0250062b7d",
        "colab": {
          "base_uri": "https://localhost:8080/",
          "height": 300
        }
      },
      "source": [
        "#\n",
        "# Draw the Hoeffding's Inequality with different epsilons, 0.1, 0.3, 0.5, and 1.\n",
        "#\n",
        "\n",
        "from scipy import signal\n",
        "import numpy as np\n",
        "import math\n",
        "\n",
        "def hoeffding (x, epsilon):\n",
        "\ty = 2.0 * math.exp (-2*epsilon*epsilon*x)\n",
        "\treturn y\n",
        "\n",
        "#x = np.arange (0, 100, 0.01)\n",
        "x = np.arange (0, 10, 0.01)\n",
        "\n",
        "y1 = [hoeffding (x, 0.1) for x in x]\n",
        "y2 = [hoeffding (x, 0.3) for x in x]\n",
        "y3 = [hoeffding (x, 0.5) for x in x]\n",
        "y4 = [hoeffding (x, 1) for x in x]\n",
        "\n",
        "import matplotlib.pyplot as plt\n",
        "\n",
        "plt.xlabel ('N')\n",
        "plt.ylabel ('P')\n",
        "latex1 = r'P\\leq2e^{\\left( -2\\varepsilon ^{2}N\\right)}'\n",
        "plt.title (r\"Hoeffding's Inequality: $ %s $\" % latex1)\n",
        "\n",
        "latext2 = r'\\varepsilon'\n",
        "plt.plot (x, y1, label=r'$%s$ = 0.1' % latext2)\n",
        "plt.plot (x, y2, label='$%s$ = 0.3' % latext2)\n",
        "plt.plot (x, y3, label='$%s$ = 0.5' % latext2)\n",
        "plt.plot (x, y4, label='$%s$ = 1' % latext2)\n",
        "\n",
        "plt.legend ()\n",
        "plt.show ()"
      ],
      "execution_count": 0,
      "outputs": [
        {
          "output_type": "display_data",
          "data": {
            "image/png": "[encoded data removed]",
            "text/plain": [
              "<Figure size 432x288 with 1 Axes>"
            ]
          },
          "metadata": {
            "tags": []
          }
        }
      ]
    },
    {
      "cell_type": "code",
      "metadata": {
        "id": "SQatJ2ljjI8q",
        "colab_type": "code",
        "outputId": "4cf9daff-4982-41ec-e6a3-110f617623e5",
        "colab": {
          "base_uri": "https://localhost:8080/",
          "height": 283
        }
      },
      "source": [
        "import numpy as np\n",
        "import matplotlib.pyplot as plt\n",
        "\n",
        "from sklearn import ensemble\n",
        "from sklearn import datasets\n",
        "\n",
        "\n",
        "X, y = datasets.make_hastie_10_2(n_samples=12000, random_state=1)\n",
        "X = X.astype(np.float32)\n",
        "\n",
        "# map labels from {-1, 1} to {0, 1}\n",
        "labels, y = np.unique(y, return_inverse=True)\n",
        "\n",
        "X_train, X_test = X[:2000], X[2000:]\n",
        "y_train, y_test = y[:2000], y[2000:]\n",
        "\n",
        "original_params = {'n_estimators': 1000, 'max_leaf_nodes': 4, 'max_depth': None, 'random_state': 2,\n",
        "                   'min_samples_split': 5}\n",
        "\n",
        "plt.figure()\n",
        "\n",
        "for label, color, setting in [('No shrinkage', 'orange',\n",
        "                               {'learning_rate': 1.0, 'subsample': 1.0}),\n",
        "                              ('learning_rate=0.1', 'turquoise',\n",
        "                               {'learning_rate': 0.1, 'subsample': 1.0}),\n",
        "                              ('subsample=0.5', 'blue',\n",
        "                               {'learning_rate': 1.0, 'subsample': 0.5}),\n",
        "                              ('learning_rate=0.1, subsample=0.5', 'gray',\n",
        "                               {'learning_rate': 0.1, 'subsample': 0.5}),\n",
        "                              ('learning_rate=0.1, max_features=2', 'magenta',\n",
        "                               {'learning_rate': 0.1, 'max_features': 2})]:\n",
        "    params = dict(original_params)\n",
        "    params.update(setting)\n",
        "\n",
        "    clf = ensemble.GradientBoostingClassifier(**params)\n",
        "    clf.fit(X_train, y_train)\n",
        "\n",
        "    # compute test set deviance\n",
        "    test_deviance = np.zeros((params['n_estimators'],), dtype=np.float64)\n",
        "\n",
        "    for i, y_pred in enumerate(clf.staged_decision_function(X_test)):\n",
        "        # clf.loss_ assumes that y_test[i] in {0, 1}\n",
        "        test_deviance[i] = clf.loss_(y_test, y_pred)\n",
        "\n",
        "    plt.plot((np.arange(test_deviance.shape[0]) + 1)[::5], test_deviance[::5],\n",
        "            '-', color=color, label=label)\n",
        "\n",
        "plt.legend(loc='upper left')\n",
        "plt.xlabel('Boosting Iterations')\n",
        "plt.ylabel('Test Set Deviance')\n",
        "\n",
        "plt.show()"
      ],
      "execution_count": 0,
      "outputs": [
        {
          "output_type": "display_data",
          "data": {
            "image/png": "[encoded data removed]",
            "text/plain": [
              "<Figure size 432x288 with 1 Axes>"
            ]
          },
          "metadata": {
            "tags": []
          }
        }
      ]
    },
    {
      "cell_type": "code",
      "metadata": {
        "id": "Dox2x6YFjgRv",
        "colab_type": "code",
        "outputId": "888b09db-a791-4534-f1f7-4ebcf8e4d934",
        "colab": {
          "base_uri": "https://localhost:8080/",
          "height": 34
        }
      },
      "source": [
        "# Gradient boosting - testing early stopping\n",
        "\n",
        "# setup\n",
        "\n",
        "import time\n",
        "\n",
        "import numpy as np\n",
        "import matplotlib.pyplot as plt\n",
        "\n",
        "from sklearn import ensemble\n",
        "from sklearn import datasets\n",
        "from sklearn.model_selection import train_test_split\n",
        "\n",
        "print(__doc__)\n",
        "\n",
        "data_list = [datasets.load_iris(), datasets.load_digits()]\n",
        "data_list = [(d.data, d.target) for d in data_list]\n",
        "data_list += [datasets.make_hastie_10_2()]\n",
        "names = ['Iris Data', 'Digits Data', 'Hastie Data']\n",
        "\n",
        "n_gb = []\n",
        "score_gb = []\n",
        "time_gb = []\n",
        "n_gbes = []\n",
        "score_gbes = []\n",
        "time_gbes = []\n",
        "\n",
        "n_estimators = 500\n",
        "\n",
        "for X, y in data_list:\n",
        "    X_train, X_test, y_train, y_test = train_test_split(X, y, test_size=0.2,\n",
        "                                                        random_state=0)\n",
        "\n",
        "    # We specify that if the scores don't improve by atleast 0.01 for the last\n",
        "    # 10 stages, stop fitting additional stages\n",
        "    gbes = ensemble.GradientBoostingClassifier(n_estimators=n_estimators,\n",
        "                                               validation_fraction=0.2,\n",
        "                                               n_iter_no_change=5, tol=0.01,\n",
        "                                               random_state=0)\n",
        "    gb = ensemble.GradientBoostingClassifier(n_estimators=n_estimators,\n",
        "                                             random_state=0)\n",
        "    start = time.time()\n",
        "    gb.fit(X_train, y_train)\n",
        "    time_gb.append(time.time() - start)\n",
        "\n",
        "    start = time.time()\n",
        "    gbes.fit(X_train, y_train)\n",
        "    time_gbes.append(time.time() - start)\n",
        "\n",
        "    score_gb.append(gb.score(X_test, y_test))\n",
        "    score_gbes.append(gbes.score(X_test, y_test))\n",
        "\n",
        "    n_gb.append(gb.n_estimators_)\n",
        "    n_gbes.append(gbes.n_estimators_)\n",
        "\n",
        "bar_width = 0.2\n",
        "n = len(data_list)\n",
        "index = np.arange(0, n * bar_width, bar_width) * 2.5\n",
        "index = index[0:n]"
      ],
      "execution_count": 0,
      "outputs": [
        {
          "output_type": "stream",
          "text": [
            "Automatically created module for IPython interactive environment\n"
          ],
          "name": "stdout"
        }
      ]
    },
    {
      "cell_type": "code",
      "metadata": {
        "id": "BHnZ3CAzjs-_",
        "colab_type": "code",
        "outputId": "65c57ae2-c0a5-4c67-ac79-996c471c8641",
        "colab": {
          "base_uri": "https://localhost:8080/",
          "height": 337
        }
      },
      "source": [
        "# compare with/without stopping\n",
        "\n",
        "plt.figure(figsize=(9, 5))\n",
        "\n",
        "bar1 = plt.bar(index, score_gb, bar_width, label='Without early stopping',\n",
        "               color='crimson')\n",
        "bar2 = plt.bar(index + bar_width, score_gbes, bar_width,\n",
        "               label='With early stopping', color='coral')\n",
        "\n",
        "plt.xticks(index + bar_width, names)\n",
        "plt.yticks(np.arange(0, 1.3, 0.1))\n",
        "\n",
        "\n",
        "def autolabel(rects, n_estimators):\n",
        "    \"\"\"\n",
        "    Attach a text label above each bar displaying n_estimators of each model\n",
        "    \"\"\"\n",
        "    for i, rect in enumerate(rects):\n",
        "        plt.text(rect.get_x() + rect.get_width() / 2.,\n",
        "                 1.05 * rect.get_height(), 'n_est=%d' % n_estimators[i],\n",
        "                 ha='center', va='bottom')\n",
        "\n",
        "\n",
        "autolabel(bar1, n_gb)\n",
        "autolabel(bar2, n_gbes)\n",
        "\n",
        "plt.ylim([0, 1.3])\n",
        "plt.legend(loc='best')\n",
        "plt.grid(True)\n",
        "\n",
        "plt.xlabel('Datasets')\n",
        "plt.ylabel('Test score')\n",
        "\n",
        "plt.show()\n",
        "\n"
      ],
      "execution_count": 0,
      "outputs": [
        {
          "output_type": "display_data",
          "data": {
            "image/png": "[encoded data removed]",
            "text/plain": [
              "<Figure size 648x360 with 1 Axes>"
            ]
          },
          "metadata": {
            "tags": []
          }
        }
      ]
    },
    {
      "cell_type": "code",
      "metadata": {
        "id": "FNPVjbxKj5nI",
        "colab_type": "code",
        "outputId": "290d255c-6795-4dd5-ffec-d150470cd652",
        "colab": {
          "base_uri": "https://localhost:8080/",
          "height": 338
        }
      },
      "source": [
        "# Compare scores with/without stopping\n",
        "\n",
        "plt.figure(figsize=(9, 5))\n",
        "\n",
        "bar1 = plt.bar(index, time_gb, bar_width, label='Without early stopping',\n",
        "               color='crimson')\n",
        "bar2 = plt.bar(index + bar_width, time_gbes, bar_width,\n",
        "               label='With early stopping', color='coral')\n",
        "\n",
        "max_y = np.amax(np.maximum(time_gb, time_gbes))\n",
        "\n",
        "plt.xticks(index + bar_width, names)\n",
        "plt.yticks(np.linspace(0, 1.3 * max_y, 13))\n",
        "\n",
        "autolabel(bar1, n_gb)\n",
        "autolabel(bar2, n_gbes)\n",
        "\n",
        "plt.ylim([0, 1.3 * max_y])\n",
        "plt.legend(loc='best')\n",
        "plt.grid(True)\n",
        "\n",
        "plt.xlabel('Datasets')\n",
        "plt.ylabel('Fit Time')\n",
        "\n",
        "plt.show()"
      ],
      "execution_count": 0,
      "outputs": [
        {
          "output_type": "display_data",
          "data": {
            "image/png": "[encoded data removed]",
            "text/plain": [
              "<Figure size 648x360 with 1 Axes>"
            ]
          },
          "metadata": {
            "tags": []
          }
        }
      ]
    },
    {
      "cell_type": "markdown",
      "metadata": {
        "id": "2Qng6SC5Ljfs",
        "colab_type": "text"
      },
      "source": [
        "# Review Report on \"Greedy Function Approximation: A Gradient Boosting Machine\" by Jerome H. Friedman 1999"
      ]
    },
    {
      "cell_type": "markdown",
      "metadata": {
        "id": "gnKPdQzaItcb",
        "colab_type": "text"
      },
      "source": [
        "The link to this report is \n",
        "https://github.com/DamienSmith/UTS_ML2019_ID13039957/blob/master/A1_Report_13039957.ipynb"
      ]
    },
    {
      "cell_type": "markdown",
      "metadata": {
        "id": "IIKH5N7YLjfu",
        "colab_type": "text"
      },
      "source": [
        "## Introduction\n",
        "\n",
        "\n",
        "\n",
        "Gradient boosting is a machine learning technique that produces a prediction model in the form of an ensemble of weak prediction models. A critique of \"Greedy Function Approximation: A Gradient Boosting Machine\" by Jermone H. Friedman (1999) introduces the concept of additive boosting through best candidate selection from a series of weak learners. This paper considers the content, innovation, technical quality, application, x-factor and presentation of Friedmann's (1999) research. It has been found that the proposed technique is a robust way of producing an accurate model while reducing the likelihood of being overfitted."
      ]
    },
    {
      "cell_type": "markdown",
      "metadata": {
        "id": "s_ZFMBaULjfv",
        "colab_type": "text"
      },
      "source": [
        "## Content"
      ]
    },
    {
      "cell_type": "markdown",
      "metadata": {
        "id": "0_9ZGLMVLjfx",
        "colab_type": "text"
      },
      "source": [
        "Friedmann's (1999) research expands upon existing boosting methods by proposing steepest-descent minimization for additive expansions. The overall goal is to use training data to approximate a function, where the expected loss (or error) is minimized and accurate predictions made. This paper contributes to this goal by focusing on minimizing the limitations of boosting methods. The gradient boosting algorithm is proposed along with several algorithms that represent the application of the additive modeling approach. Unlike other boosting methods, Friedmann's (1999) model operates in a stage-wise fashion and optimizes an arbitrary differentiable loss function through generalization.\n",
        "\n",
        "The main challenge for this paper is how to best deal with the problem of overfitting training data.  Friedmann (1999) begins his paper describing the predictive learning problem and connects it with steepest-decent minimization. The problem of overfitting is identified and proposed to be managed through regularization (or generalization). A number of experiments are then outlined showing the performance of his algorithm on both simulated and real-world data.  The greedy function approximation is shown to incorporate arbitrary differentiable loss functions , which expands boosting beyond binary classification problems to support regression, multi-class classification and manage overfitting. \n",
        "\n",
        "Traditionally, gradient descent is used to minimize a set of parameters and after calculating the error the weights are updated to minimize this error (Arney 2014). Instead of parameters, Friedmann (1999) uses weak learner sub-models (decision trees) to weigh the error and modified the hypothesis and reduce  residual loss. The benefit of this boosting framework is that a new boosting algorithm does not have to be derived for each loss function, instead, it can use any differentiable loss function. Friedmann (1999) proposes a weighted combination of classifiers which optimizes the cost by gradient descent in function space and the output for each new tree is added to the output of the existing sequence of trees in an effort to improve the final output of the model.\n",
        "\n",
        "\n",
        "\n",
        "\n",
        "\n",
        "\n",
        "\n",
        "#### Requirements \n",
        "\n",
        "* The research is about .... A theorem has been proved stating ... / An algorithm of ... has been proposed.  \n",
        "\n",
        "* Describe in your own words what the paper is about and what the main challenge or problem it attempted to\n",
        "resolve.\n",
        "\n",
        "* 300 words \" a complete and accurate understanding\""
      ]
    },
    {
      "cell_type": "markdown",
      "metadata": {
        "id": "eqw1ibTfLjfy",
        "colab_type": "text"
      },
      "source": [
        "## Innovation"
      ]
    },
    {
      "cell_type": "markdown",
      "metadata": {
        "id": "2iR1nU7yLjf0",
        "colab_type": "text"
      },
      "source": [
        "Boosting refers to the general problem of attempting to produce an accurate prediction rule by combining rough and moderately inaccurate rules-of-thumb (Freund & Schapire 1997). Leslie Valiant’s (1984)  work on 'distribution free' or Probability Approximately Correct (PAC) learning formed the framework for investigating the complexity of machine learning problems. The motivation being to use a weak learning method several times to get a succession of hypotheses where each iteration refocuses on where the previous hypothesis misclassified (Arney 2014).\n",
        "\n",
        "Several algorithms were cast into the PAC framework by Breiman (1999) calling them ARCing algorithms. ARCing involves a weighted minimization followed by the computation of the classifiers and weighted input (Breiman 1999). Adaptive Boosting (AdaBoost) was arguably the first successful realization of boosting (Breiman 1999). AdaBoost works by weighing each observation, putting more weight on difficult to classify instances and less on those well handled. New weak learners are added sequentially thereby focusing their training on the more difficult patterns. Predictions are made by majority vote of the weak learners’ predictions, weighted by their individual accuracy. This means that samples that are difficult to classify receive increasing larger weights until the algorithm identifies a model that correctly classifies these samples (Kuhn & Johnson 2013). \n",
        "\n",
        "From this background, Friedman (1999) developed his gradient boosting algorithms as a stage-wise additive model. Gradient boosting originated from the observation by Leo Breiman (1999) that boosting can be interpreted as an optimization algorithm on a suitable cost function. Gradient Boosting is an approach where new models are trained to predict the residuals (i.e errors) of prior models. Loss functions generally included squared-error, absolute error and negative binomial log-likehood. Friedmann's research (1999) innovates by optimizing the target function from the perspective of function space rather than parameter space. Instead of restricting the target function, Friedmann's (1999) model enables different models to be applied iteratively. Note that Friedmanns (1999) stage-wise strategy is different from step-wise approaches, which only reads previously entered terms when new ones are added. Existing weak learners in this model remain unchanged because a new weak learner is added one at a time. The largest residuals get the most focus, so the data points hardest to fit get the most attention due to the base learner building a model off the residuals thereby generalising the data. The advantage of this approach is that the new models being added focus on correcting the mistakes that were caused by other previous models. In a standard ensemble method, where models are trained in isolation, it is possible that every model produced could contain the same misclassification. Also note that trees are constructed in a greedy manner, choosing the best split points to minimize the loss and constraining the weak learners to ensure they remain weak (eg maximum number of layers, nodes, splits or leaves).  This functional gradient view of boosting has led to the development of boosting algorithms in many areas of machine learning and statistics beyond regression and classification (Arney 2014).\n",
        "\n",
        "\n",
        "ANOVA\n",
        "influence measure (beiman et al 1983)\n",
        "\n",
        "Robust against outliers \n",
        "handles missing values well\n",
        "adds interpretability (approximation methods) - gives insight into the nature of the input output relationship\n",
        "\n",
        "\n",
        "\n",
        "\n",
        "#### Requirements \n",
        "\n",
        "* 300 words. \"motivation and innovation clearly identified with appropriate critiques\"\n",
        "\n",
        "* The background at the time of the work is that people understood the problem as .... \n",
        "\n",
        "* The creative idea is ...\n",
        "\n",
        "* How innovative is the research work in the paper? Here you should describe the “novelty” of the paper.\n",
        "What does the paper contribute: a new method? an algorithm? a methodology? a comparison between methods? or\n",
        "something else?"
      ]
    },
    {
      "cell_type": "markdown",
      "metadata": {
        "id": "HfX8ssZeLjf1",
        "colab_type": "text"
      },
      "source": [
        "## Technical quality"
      ]
    },
    {
      "cell_type": "markdown",
      "metadata": {
        "id": "HXHPfey2Ljf3",
        "colab_type": "text"
      },
      "source": [
        "Friedman's (1999) research holds high technical quality as it is supported through mathematical logic and reasonable experimentation. The technical development is shown through the development of his alogorithms and act as a way to step the reader through the thought process. The value  is shown through several experiments covering simulated and real world data. Friedman (1999) also considers the computational cost as well as others areas of improvement that can be addressed in future research. \n",
        "\n",
        "Comparisons are made with ...   [check they are fair comparisons]\n",
        "\n",
        "The accuracy of the experiments is based on actual test data (garnet data, demographic data . A significant number of experiments were conducted to establish a realisty conclusion.\n",
        "\n",
        "One questionable item is that Friedman (1999) claims that global shrinakage provides improvement over no shrinkage based on 'empirical evidence (not shown)'. He does say that the success of this method is a myster that requires further investigation.\n",
        "Visualizations are limited to low dimensional space (handled through a measure of relevance)\n",
        "\n",
        "I find the technical quality of the paper quite strong. It is common to see experiments done with gradient boosting in places like Kaggle, which highlights the effect Friedmann's (1999) research has had on the data science community (Kaggle 2019). In addition, one of the most popular modern machine learning techniques, XG Boosting, has been developed from the research done by Friedman (1999) and is considered a 'standard recipe' for winning machine learning competitions (Natekin 2019). \n",
        "\n",
        "\n",
        "</n>\n",
        "\n",
        "#### Requirements \n",
        "\n",
        "* The technical development if of high/low quality. The authors supported their theory using ...\n",
        "\n",
        "* How would you rate the technical quality of the work in the paper? \n",
        "\n",
        "* 200 words. \"accurate and appropriate comments on the technical aspects of the paper\"\n",
        "\n",
        "</n>\n",
        "</n>\n",
        "\n",
        "\n",
        "It is common for a machine learning model to train a single model of a dataset and use that for prediciton (). Adjustments can be made to the parameters and can even be run as an ensemble, however, all the models trained and applied are done seperately. Boosting on the other hand takes a more iterative approach. It’s still technically an ensemble technique in that many models are combined together to perform the final one, however, rather than training all of the models in isolation it is done in succession. Models are added sequentially with each new model being trained to correct the errors made by the previous ones until no further improvements can be made. \n",
        "\n",
        "\n",
        "\n",
        "\n",
        "Each successive base learner is trained on the residuals of the previous iteration, which itself is an aggregation of all the iterations so far, regulated by the learning rate.\n",
        "\n",
        "Each subsequent weak learner is developed on the same data, rescaled by the errors made by the previous weak learner.\n",
        "\n",
        "Trees are added sequentially to correct the predictions of prior trees. They are fit on the same data, only modified to focus attention on errors made by prior trees.\n",
        "\n",
        "A fixed number of trees is added and we specify this number as a hyperparameter.\n"
      ]
    },
    {
      "cell_type": "markdown",
      "metadata": {
        "id": "PtTdCYAdLjf4",
        "colab_type": "text"
      },
      "source": [
        "## Application and X-factor"
      ]
    },
    {
      "cell_type": "markdown",
      "metadata": {
        "id": "e8Cmioh-Ljf6",
        "colab_type": "text"
      },
      "source": [
        "Friendmanns (1999) approach is promising for several reasons. It has the ability to train models to predict the residuals (i.e errors) of prior models, whereas, loss functions generally include squared-error, absolute error and negative binomial log-likehood. A fixed number of trees can be set as a hyperparameter and fit on the same data, only modified to focus attention on errors made by prior trees while generalizing the model. No longer 'restricted' to binary classifications and not limited to specific training models as many can apply.\n",
        "\n",
        "\n",
        "\n",
        "Each successive base learner is trained on the residuals of the previous iteration, which itself is an aggregation of all the iterations so far, regulated by the learning rate. Each subsequent weak learner is developed on the same data, rescaled by the errors made by the previous weak learner. Trees are added sequentially to correct the predictions of prior trees. \n",
        "\n",
        "\n",
        "\n",
        "\n",
        " * Do you think the application domain is appropriate for the proposed technique? \n",
        "\n",
        "\n",
        "\n",
        "* What other application domains could the research work be applied? \n",
        "\n",
        "\n",
        "* Also in this section, give a couple of suggestions for further developments of the research work. Do you think the work described in the paper could spark a good discussion in class? What did you find interesting about the work?\n",
        "\n",
        "\n",
        "\n",
        "Friendmans (1999) work highlights how important regularization methods are to reduce overfitting the data. The solution he presents contains some difficulties, such as a bias towards variables with a larger number of unique values and inflation under multicollinearity. The algorithm benefits from regularization methods that penalize various parts of the algorithm and generally improve the performance of the algorithm by reducing overfitting (Friedman 1999).\n",
        "\n",
        "One way to regularize is to contstrain decision tree creation so that they remain weak. This includes limiting the number of trees so that the number of observations is lmiited, limiting the tree depth to reduce the complexity, limiting the number of nodes/leaves and reducing the number of observation per split. Additional constraints can be imposed on the trees in addition to their structure. The values in the leaves can be considered weights and the leaf weight values regularized using regularization functions.This additional regularization helps to smooth the final learnt weights to avoid over-fitting. Intuitively, the regularized objective will tend to select a model employing simple and predictive functions. (Chen & Guestrin 2016)\n",
        "\n",
        "It is possible to slow down the learning rate by summing and weighing the contribution of each tree through shrinkage. As predictions of each tree are added together sequentially each update is simply scaled by the value of the “learning rate parameter” (Friedman 1999). Doing this means more trees are added increasing the time taken to train, which will reduce the influence of each individual tree and leaves space for future trees to improve the model (Friedman 2002)\n",
        "\n",
        "Another reguralization method is stochastic gradient boosting. At each iteration a subsample of the training data is drawn at random (without replacement) from the full training dataset. The randomly selected subsample is then used, instead of the full sample, to fit the base learner (Friedman 2002). Generally, aggressive sub-sampling such as selecting only 50% of the data has shown to be beneficial (Chen & Guestrin 2016). A few variants of stochastic boosting that can be used; Subsample rows before creating each tree, Subsample columns before creating each tree, Subsample columns before considering each split. It has been found that using column sub-sampling prevents over-fitting even more so than the traditional row sub-sampling (Chen & Guestrin 2016)\n",
        "\n",
        "\n",
        "\n",
        "#### Requirements \n",
        "200 words. \"relevant comments on the proposed application domain of the paper; proposing\n",
        "new applications or research ideas, which are based on careful argument and\n",
        "background review\""
      ]
    },
    {
      "cell_type": "markdown",
      "metadata": {
        "id": "H5VD2tMsLjf7",
        "colab_type": "text"
      },
      "source": [
        "## Presentation"
      ]
    },
    {
      "cell_type": "markdown",
      "metadata": {
        "id": "xfgELj7VLjf8",
        "colab_type": "text"
      },
      "source": [
        "\n",
        "Logical flow with a beginning middile and end.\n",
        "prediictive learning problem, numerical optimization through steepest-descent (negative gradient), 'non-paramattic ' approach through stage-wise steps, Applications of additive modeling, Regularization (resolving  the problem of overfitting), \n",
        "\n",
        "\n",
        "Headings and font\n",
        "\n",
        "Uses tables and graphs\n",
        "\n",
        "\n",
        "\n",
        "\n",
        "\n",
        "#### Requirements \n",
        "* The overall strucutre is clear. I found reading is easy / difficult. The paper could have been more attractive if the authors had organised ... / provided ... \n",
        "\n",
        "\n",
        "* How would you rate the quality of the presentation of the paper? Things you could consider here\n",
        "include: how easy it was to follow the argument in the paper; presentation style; depth of the argument; and clarity of\n",
        "the presentation.\n",
        "\n",
        "\n",
        "\n",
        "* 100 words. \"accurate comments on the representation and suggest how to improve\""
      ]
    },
    {
      "cell_type": "markdown",
      "metadata": {
        "id": "gL4g4MlOLjf-",
        "colab_type": "text"
      },
      "source": [
        "## References\n",
        "\n",
        "Arney, C., 2014. Probably Approximately Correct: Nature's Algorithms for Learning and Prospering in a Complex World. Mathematics and Computer Education, 48(1), p.126.\n",
        "\n",
        "Breiman, L., 1999. Prediction games and arcing algorithms. Neural computation, 11(7), pp.1493-1517.\n",
        "\n",
        "Chen, T. and Guestrin, C., 2016, August. Xgboost: A scalable tree boosting system. In Proceedings of the 22nd acm sigkdd international conference on knowledge discovery and data mining (pp. 785-794). ACM.\n",
        "\n",
        "Freund, Y. and Schapire, R.E., 1996, July. Experiments with a new boosting algorithm. In icml (Vol. 96, pp. 148-156).\n",
        "\n",
        "Freund, Y. and Schapire, R.E., 1997. A decision-theoretic generalization of on-line learning and an application to boosting. Journal of computer and system sciences, 55(1), pp.119-139.\n",
        "\n",
        "Friedman, J., Hastie, T. and Tibshirani, R., 2000. Additive logistic regression: a statistical view of boosting (with discussion and a rejoinder by the authors). The annals of statistics, 28(2), pp.337-407.\n",
        "\n",
        "Friedman, J.H., 1999. Greedy function approximation: a gradient boosting machine. Annals of statistics, pp.1189-1232.\n",
        "\n",
        "Friedman, J.H., 2002. Stochastic gradient boosting. Computational statistics & data analysis, 38(4), pp.367-378.\n",
        "\n",
        "Kearns, M., 1988. Thoughts on hypothesis boosting. Unpublished manuscript, 45, p.105.\n",
        "\n",
        "Kuhn, M. and Johnson, K., 2013. Applied predictive modeling (Vol. 26). New York: Springer.\n",
        "\n",
        "Mason, L., Baxter, J., Bartlett, P.L. and Frean, M.R., 2000. Boosting algorithms as gradient descent. In Advances in neural information processing systems (pp. 512-518).\n",
        "\n",
        "Natekin, A., 2019, 'Gradient Boosting', online machine learning course.\n",
        "\n",
        "\n",
        "\n",
        "\n",
        "http://www.popflock.com/learn?s=Gradient_boosting\n"
      ]
    },
    {
      "cell_type": "markdown",
      "metadata": {
        "id": "xLuI6UfMP5y-",
        "colab_type": "text"
      },
      "source": [
        "# Appendix A\n",
        "\n",
        "In many supervised learning problems one has an output variable $y$ and a vector of input variables $x$ described via a joint probability distribution $P(x,y)$. Using a training set  $\\{(x_{1},y_{1}),\\dots ,(x_{n},y_{n})\\}$ of known values of $x$ and corresponding values of $y$, the goal is to find an approximation $\\hat{F}(x)$ to a function $F(x)$ that minimizes the expected value of some specified loss function $L(y, F(x))$:\n",
        "\n",
        "${\\displaystyle {\\hat {F}}={\\underset {F}{\\arg \\min }}\\,\\mathbb {E} _{x,y}[L(y,F(x))]}.$\n",
        "\n",
        "The gradient boosting method assumes a real-valued y and seeks an approximation $\\hat{F}(x)$ in the form of a weighted sum of functions $h_i (x)$ from some class ${\\mathcal {H}}$, called base (or weak) learners:\n",
        "\n",
        "${\\displaystyle {\\hat {F}}(x)=\\sum _{i=1}^{M}\\gamma _{i}h_{i}(x)+{\\mbox{const}}}.$\n",
        "\n",
        "In accordance with the empirical risk minimization principle, the method tries to find an approximation $\\hat{F}(x)$ that minimizes the average value of the loss function on the training set, i.e., minimizes the empirical risk. It does so by starting with a model, consisting of a constant function ${\\displaystyle F_{0}(x)}$, and incrementally expands it in a greedy fashion:\n",
        "\n",
        "${\\displaystyle F_{0}(x)={\\underset {\\gamma }{\\arg \\min }}{\\sum _{i=1}^{n}{L(y_{i},\\gamma )}}},$\n",
        "\n",
        "${\\displaystyle F_{m}(x)=F_{m-1}(x)+{\\underset {h_{m}\\in {\\mathcal {H}}}{\\operatorname {arg\\,min} }}\\left[{\\sum _{i=1}^{n}{L(y_{i},F_{m-1}(x_{i})+h_{m}(x_{i}))}}\\right]},$\n",
        "\n",
        "where ${\\displaystyle h_{m}\\in {\\mathcal {H}}}$ is a base learner function.\n",
        "\n",
        "Unfortunately, choosing the best function $h$ at each step for an arbitrary loss function $L$ is a computationally infeasible optimization problem in general. Therefore, we restrict our approach to a simplified version of the problem.\n",
        "\n",
        "The idea is to apply a steepest descent step to this minimization problem. If we considered the continuous case, i.e. where $\\mathcal{H}$  is the set of arbitrary differentiable functions on ${\\displaystyle \\mathbb {R} }$, we would update the model in accordance with the following equations\n",
        "\n",
        "${\\displaystyle F_{m}(x)=F_{m-1}(x)-\\gamma _{m}\\sum _{i=1}^{n}{\\nabla _{F_{m-1}}L(y_{i},F_{m-1}(x_{i}))},}$\n",
        "\n",
        "${\\displaystyle \\gamma _{m}={\\underset {\\gamma }{\\arg \\min }}{\\sum _{i=1}^{n}{L\\left(y_{i},F_{m-1}(x_{i})-\\gamma \\nabla _{F_{m-1}}L(y_{i},F_{m-1}(x_{i}))\\right)}},}$\n",
        "\n",
        "where the derivatives are taken with respect to the functions $F_{i}$ for ${\\displaystyle i\\in \\{1,..,m\\}}$. In the discrete case however, i.e. when the set ${\\mathcal {H}}$ is finite, we choose the candidate function $h$ closest to the gradient of $L$ for which the coefficient $γ$ may then be calculated with the aid of line search on the above equations. Note that this approach is a heuristic and therefore doesn't yield an exact solution to the given problem, but rather an approximation. In pseudocode, the generic gradient boosting method is:\n",
        "Input: training set ${\\displaystyle \\{(x_{i},y_{i})\\}_{i=1}^{n},}$ a differentiable loss function ${\\displaystyle L(y,F(x)),}$ number of iterations $M$.\n",
        "\n",
        "Algorithm:\n",
        "\n",
        "Initialize model with a constant value:\n",
        "\n",
        "$F_0(x) = \\underset{\\gamma}{\\arg\\min} \\sum_{i=1}^n L(y_i, \\gamma).$\n",
        "\n",
        "For $m = 1$ to $M$:\n",
        "\n",
        "Compute so-called pseudo-residuals:\n",
        "\n",
        "$r_{im} = -\\left[\\frac{\\partial L(y_i, F(x_i))}{\\partial F(x_i)}\\right]_{F(x)=F_{m-1}(x)} \\quad \\mbox{for } i=1,\\ldots,n.$\n",
        "\n",
        "Fit a base learner (e.g. tree) ${\\displaystyle h_{m}(x)}$ to pseudo-residuals, i.e. train it using the training set $\\{(x_i, r_{im})\\}_{i=1}^n.$\n",
        "Compute multiplier $\\gamma _{m}$ by solving the following one-dimensional optimization problem:\n",
        "\n",
        "$\\gamma_m = \\underset{\\gamma}{\\operatorname{arg\\,min}} \\sum_{i=1}^n L\\left(y_i, F_{m-1}(x_i) + \\gamma h_m(x_i)\\right).$\n",
        "\n",
        "Update the model:\n",
        "\n",
        "$F_{m}(x)=F_{{m-1}}(x)+\\gamma _{m}h_{m}(x).$\n",
        "\n",
        "\\\n",
        "\n",
        "Output $F_M(x).$"
      ]
    }
  ]
}